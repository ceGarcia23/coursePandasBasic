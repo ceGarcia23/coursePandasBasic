{
 "cells": [
  {
   "cell_type": "code",
   "execution_count": 52,
   "metadata": {
    "collapsed": true
   },
   "outputs": [],
   "source": [
    "import pandas as pd"
   ]
  },
  {
   "cell_type": "code",
   "execution_count": 53,
   "outputs": [],
   "source": [
    "df = pd.read_csv(\"archive/ModalidadVirtual.csv\")"
   ],
   "metadata": {
    "collapsed": false
   }
  },
  {
   "cell_type": "code",
   "execution_count": 54,
   "outputs": [
    {
     "data": {
      "text/plain": "     Unnamed: 0        time                       carrera acepta  \\\n0             0  2020-11-08        Ingeniería de Sistemas     Si   \n1             1  2020-11-08                    Psicología     Si   \n2             2  2020-11-08        Ingeniería de Sistemas     Si   \n3             3  2020-11-08        Ingeniería de Sistemas     Si   \n4             4  2020-11-08        Ingeniería de Sistemas     Si   \n..          ...         ...                           ...    ...   \n217         230  2020-12-10  Gestión Turística y Hotelera     Si   \n218         231  2020-12-11        Ingeniería de Sistemas     No   \n219         232  2020-12-11  Gestión Turística y Hotelera     No   \n220         233  2020-12-11         Ingeniería Agronómica     Si   \n221         234  2020-12-12        Comercio Internacional     Si   \n\n                          positivo  \\\n0                Horario flexible.   \n1    Acceso desde cualquier lugar.   \n2                Horario flexible.   \n3                Horario flexible.   \n4    Acceso desde cualquier lugar.   \n..                             ...   \n217              Horario flexible.   \n218  Acceso desde cualquier lugar.   \n219              Horario flexible.   \n220  Acceso desde cualquier lugar.   \n221              Horario flexible.   \n\n                                              negativo  edad    sexo   trabajo  \n0               Contacto Personal Docente-Estudiantil.    20  Hombre  Eventual  \n1               Contacto Personal Docente-Estudiantil.    26  Hombre  Eventual  \n2    Falta de recursos de calidad(plataformas, doce...    20   Mujer        Sí  \n3                                 Conexión a internet.    18   Mujer        No  \n4               Contacto Personal Docente-Estudiantil.    39  Hombre        Sí  \n..                                                 ...   ...     ...       ...  \n217                               Conexión a internet.    19   Mujer        Sí  \n218  Falta de recursos de calidad(plataformas, doce...    23   Mujer        No  \n219  Falta de recursos de calidad(plataformas, doce...    25  Hombre        Sí  \n220             Contacto Personal Docente-Estudiantil.    20   Mujer        Sí  \n221  Falta de recursos de calidad(plataformas, doce...    23  Hombre        Sí  \n\n[222 rows x 9 columns]",
      "text/html": "<div>\n<style scoped>\n    .dataframe tbody tr th:only-of-type {\n        vertical-align: middle;\n    }\n\n    .dataframe tbody tr th {\n        vertical-align: top;\n    }\n\n    .dataframe thead th {\n        text-align: right;\n    }\n</style>\n<table border=\"1\" class=\"dataframe\">\n  <thead>\n    <tr style=\"text-align: right;\">\n      <th></th>\n      <th>Unnamed: 0</th>\n      <th>time</th>\n      <th>carrera</th>\n      <th>acepta</th>\n      <th>positivo</th>\n      <th>negativo</th>\n      <th>edad</th>\n      <th>sexo</th>\n      <th>trabajo</th>\n    </tr>\n  </thead>\n  <tbody>\n    <tr>\n      <th>0</th>\n      <td>0</td>\n      <td>2020-11-08</td>\n      <td>Ingeniería de Sistemas</td>\n      <td>Si</td>\n      <td>Horario flexible.</td>\n      <td>Contacto Personal Docente-Estudiantil.</td>\n      <td>20</td>\n      <td>Hombre</td>\n      <td>Eventual</td>\n    </tr>\n    <tr>\n      <th>1</th>\n      <td>1</td>\n      <td>2020-11-08</td>\n      <td>Psicología</td>\n      <td>Si</td>\n      <td>Acceso desde cualquier lugar.</td>\n      <td>Contacto Personal Docente-Estudiantil.</td>\n      <td>26</td>\n      <td>Hombre</td>\n      <td>Eventual</td>\n    </tr>\n    <tr>\n      <th>2</th>\n      <td>2</td>\n      <td>2020-11-08</td>\n      <td>Ingeniería de Sistemas</td>\n      <td>Si</td>\n      <td>Horario flexible.</td>\n      <td>Falta de recursos de calidad(plataformas, doce...</td>\n      <td>20</td>\n      <td>Mujer</td>\n      <td>Sí</td>\n    </tr>\n    <tr>\n      <th>3</th>\n      <td>3</td>\n      <td>2020-11-08</td>\n      <td>Ingeniería de Sistemas</td>\n      <td>Si</td>\n      <td>Horario flexible.</td>\n      <td>Conexión a internet.</td>\n      <td>18</td>\n      <td>Mujer</td>\n      <td>No</td>\n    </tr>\n    <tr>\n      <th>4</th>\n      <td>4</td>\n      <td>2020-11-08</td>\n      <td>Ingeniería de Sistemas</td>\n      <td>Si</td>\n      <td>Acceso desde cualquier lugar.</td>\n      <td>Contacto Personal Docente-Estudiantil.</td>\n      <td>39</td>\n      <td>Hombre</td>\n      <td>Sí</td>\n    </tr>\n    <tr>\n      <th>...</th>\n      <td>...</td>\n      <td>...</td>\n      <td>...</td>\n      <td>...</td>\n      <td>...</td>\n      <td>...</td>\n      <td>...</td>\n      <td>...</td>\n      <td>...</td>\n    </tr>\n    <tr>\n      <th>217</th>\n      <td>230</td>\n      <td>2020-12-10</td>\n      <td>Gestión Turística y Hotelera</td>\n      <td>Si</td>\n      <td>Horario flexible.</td>\n      <td>Conexión a internet.</td>\n      <td>19</td>\n      <td>Mujer</td>\n      <td>Sí</td>\n    </tr>\n    <tr>\n      <th>218</th>\n      <td>231</td>\n      <td>2020-12-11</td>\n      <td>Ingeniería de Sistemas</td>\n      <td>No</td>\n      <td>Acceso desde cualquier lugar.</td>\n      <td>Falta de recursos de calidad(plataformas, doce...</td>\n      <td>23</td>\n      <td>Mujer</td>\n      <td>No</td>\n    </tr>\n    <tr>\n      <th>219</th>\n      <td>232</td>\n      <td>2020-12-11</td>\n      <td>Gestión Turística y Hotelera</td>\n      <td>No</td>\n      <td>Horario flexible.</td>\n      <td>Falta de recursos de calidad(plataformas, doce...</td>\n      <td>25</td>\n      <td>Hombre</td>\n      <td>Sí</td>\n    </tr>\n    <tr>\n      <th>220</th>\n      <td>233</td>\n      <td>2020-12-11</td>\n      <td>Ingeniería Agronómica</td>\n      <td>Si</td>\n      <td>Acceso desde cualquier lugar.</td>\n      <td>Contacto Personal Docente-Estudiantil.</td>\n      <td>20</td>\n      <td>Mujer</td>\n      <td>Sí</td>\n    </tr>\n    <tr>\n      <th>221</th>\n      <td>234</td>\n      <td>2020-12-12</td>\n      <td>Comercio Internacional</td>\n      <td>Si</td>\n      <td>Horario flexible.</td>\n      <td>Falta de recursos de calidad(plataformas, doce...</td>\n      <td>23</td>\n      <td>Hombre</td>\n      <td>Sí</td>\n    </tr>\n  </tbody>\n</table>\n<p>222 rows × 9 columns</p>\n</div>"
     },
     "execution_count": 54,
     "metadata": {},
     "output_type": "execute_result"
    }
   ],
   "source": [
    "df"
   ],
   "metadata": {
    "collapsed": false
   }
  },
  {
   "cell_type": "code",
   "execution_count": 55,
   "outputs": [
    {
     "data": {
      "text/plain": "'Psicología'"
     },
     "execution_count": 55,
     "metadata": {},
     "output_type": "execute_result"
    }
   ],
   "source": [
    "df[\"carrera\"][1]"
   ],
   "metadata": {
    "collapsed": false
   }
  },
  {
   "cell_type": "code",
   "execution_count": 56,
   "outputs": [
    {
     "data": {
      "text/plain": "0      False\n1       True\n2      False\n3      False\n4       True\n       ...  \n217    False\n218    False\n219     True\n220    False\n221    False\nName: edad, Length: 222, dtype: bool"
     },
     "execution_count": 56,
     "metadata": {},
     "output_type": "execute_result"
    }
   ],
   "source": [
    "df[\"edad\"] > 23"
   ],
   "metadata": {
    "collapsed": false
   }
  },
  {
   "cell_type": "code",
   "execution_count": 57,
   "outputs": [],
   "source": [
    "filter =df[\"edad\"] > 23"
   ],
   "metadata": {
    "collapsed": false
   }
  },
  {
   "cell_type": "code",
   "execution_count": 58,
   "outputs": [],
   "source": [
    "df_filter = df[filter]"
   ],
   "metadata": {
    "collapsed": false
   }
  },
  {
   "cell_type": "code",
   "execution_count": 59,
   "outputs": [
    {
     "data": {
      "text/plain": "     Unnamed: 0        time                       carrera acepta  \\\n1             1  2020-11-08                    Psicología     Si   \n4             4  2020-11-08        Ingeniería de Sistemas     Si   \n5             5  2020-11-08      Ciencias de la Educación     Si   \n9             9  2020-11-08        Ingeniería de Sistemas     Si   \n10           10  2020-11-08                    Psicología     Si   \n..          ...         ...                           ...    ...   \n211         223  2020-12-08         Ingeniería Agronómica     Si   \n212         224  2020-12-08                       Derecho     Si   \n213         226  2020-12-09      Ciencias de la Educación     Si   \n216         229  2020-12-10                Trabajo Social     Si   \n219         232  2020-12-11  Gestión Turística y Hotelera     No   \n\n                          positivo  \\\n1    Acceso desde cualquier lugar.   \n4    Acceso desde cualquier lugar.   \n5    Acceso desde cualquier lugar.   \n9                Horario flexible.   \n10               Horario flexible.   \n..                             ...   \n211  Acceso desde cualquier lugar.   \n212  Acceso desde cualquier lugar.   \n213                     Autonomía.   \n216              Horario flexible.   \n219              Horario flexible.   \n\n                                              negativo  edad    sexo   trabajo  \n1               Contacto Personal Docente-Estudiantil.    26  Hombre  Eventual  \n4               Contacto Personal Docente-Estudiantil.    39  Hombre        Sí  \n5                                 Conexión a internet.    25   Mujer        Sí  \n9                                 Conexión a internet.    25  Hombre        Sí  \n10                                Conexión a internet.    32  Hombre  Eventual  \n..                                                 ...   ...     ...       ...  \n211  Falta de recursos de calidad(plataformas, doce...    33  Hombre        Sí  \n212  Falta de recursos de calidad(plataformas, doce...    34  Hombre        Sí  \n213  Falta de recursos de calidad(plataformas, doce...    26  Hombre  Eventual  \n216             Contacto Personal Docente-Estudiantil.    30   Mujer        Sí  \n219  Falta de recursos de calidad(plataformas, doce...    25  Hombre        Sí  \n\n[148 rows x 9 columns]",
      "text/html": "<div>\n<style scoped>\n    .dataframe tbody tr th:only-of-type {\n        vertical-align: middle;\n    }\n\n    .dataframe tbody tr th {\n        vertical-align: top;\n    }\n\n    .dataframe thead th {\n        text-align: right;\n    }\n</style>\n<table border=\"1\" class=\"dataframe\">\n  <thead>\n    <tr style=\"text-align: right;\">\n      <th></th>\n      <th>Unnamed: 0</th>\n      <th>time</th>\n      <th>carrera</th>\n      <th>acepta</th>\n      <th>positivo</th>\n      <th>negativo</th>\n      <th>edad</th>\n      <th>sexo</th>\n      <th>trabajo</th>\n    </tr>\n  </thead>\n  <tbody>\n    <tr>\n      <th>1</th>\n      <td>1</td>\n      <td>2020-11-08</td>\n      <td>Psicología</td>\n      <td>Si</td>\n      <td>Acceso desde cualquier lugar.</td>\n      <td>Contacto Personal Docente-Estudiantil.</td>\n      <td>26</td>\n      <td>Hombre</td>\n      <td>Eventual</td>\n    </tr>\n    <tr>\n      <th>4</th>\n      <td>4</td>\n      <td>2020-11-08</td>\n      <td>Ingeniería de Sistemas</td>\n      <td>Si</td>\n      <td>Acceso desde cualquier lugar.</td>\n      <td>Contacto Personal Docente-Estudiantil.</td>\n      <td>39</td>\n      <td>Hombre</td>\n      <td>Sí</td>\n    </tr>\n    <tr>\n      <th>5</th>\n      <td>5</td>\n      <td>2020-11-08</td>\n      <td>Ciencias de la Educación</td>\n      <td>Si</td>\n      <td>Acceso desde cualquier lugar.</td>\n      <td>Conexión a internet.</td>\n      <td>25</td>\n      <td>Mujer</td>\n      <td>Sí</td>\n    </tr>\n    <tr>\n      <th>9</th>\n      <td>9</td>\n      <td>2020-11-08</td>\n      <td>Ingeniería de Sistemas</td>\n      <td>Si</td>\n      <td>Horario flexible.</td>\n      <td>Conexión a internet.</td>\n      <td>25</td>\n      <td>Hombre</td>\n      <td>Sí</td>\n    </tr>\n    <tr>\n      <th>10</th>\n      <td>10</td>\n      <td>2020-11-08</td>\n      <td>Psicología</td>\n      <td>Si</td>\n      <td>Horario flexible.</td>\n      <td>Conexión a internet.</td>\n      <td>32</td>\n      <td>Hombre</td>\n      <td>Eventual</td>\n    </tr>\n    <tr>\n      <th>...</th>\n      <td>...</td>\n      <td>...</td>\n      <td>...</td>\n      <td>...</td>\n      <td>...</td>\n      <td>...</td>\n      <td>...</td>\n      <td>...</td>\n      <td>...</td>\n    </tr>\n    <tr>\n      <th>211</th>\n      <td>223</td>\n      <td>2020-12-08</td>\n      <td>Ingeniería Agronómica</td>\n      <td>Si</td>\n      <td>Acceso desde cualquier lugar.</td>\n      <td>Falta de recursos de calidad(plataformas, doce...</td>\n      <td>33</td>\n      <td>Hombre</td>\n      <td>Sí</td>\n    </tr>\n    <tr>\n      <th>212</th>\n      <td>224</td>\n      <td>2020-12-08</td>\n      <td>Derecho</td>\n      <td>Si</td>\n      <td>Acceso desde cualquier lugar.</td>\n      <td>Falta de recursos de calidad(plataformas, doce...</td>\n      <td>34</td>\n      <td>Hombre</td>\n      <td>Sí</td>\n    </tr>\n    <tr>\n      <th>213</th>\n      <td>226</td>\n      <td>2020-12-09</td>\n      <td>Ciencias de la Educación</td>\n      <td>Si</td>\n      <td>Autonomía.</td>\n      <td>Falta de recursos de calidad(plataformas, doce...</td>\n      <td>26</td>\n      <td>Hombre</td>\n      <td>Eventual</td>\n    </tr>\n    <tr>\n      <th>216</th>\n      <td>229</td>\n      <td>2020-12-10</td>\n      <td>Trabajo Social</td>\n      <td>Si</td>\n      <td>Horario flexible.</td>\n      <td>Contacto Personal Docente-Estudiantil.</td>\n      <td>30</td>\n      <td>Mujer</td>\n      <td>Sí</td>\n    </tr>\n    <tr>\n      <th>219</th>\n      <td>232</td>\n      <td>2020-12-11</td>\n      <td>Gestión Turística y Hotelera</td>\n      <td>No</td>\n      <td>Horario flexible.</td>\n      <td>Falta de recursos de calidad(plataformas, doce...</td>\n      <td>25</td>\n      <td>Hombre</td>\n      <td>Sí</td>\n    </tr>\n  </tbody>\n</table>\n<p>148 rows × 9 columns</p>\n</div>"
     },
     "execution_count": 59,
     "metadata": {},
     "output_type": "execute_result"
    }
   ],
   "source": [
    "df_filter"
   ],
   "metadata": {
    "collapsed": false
   }
  },
  {
   "cell_type": "code",
   "execution_count": 64,
   "outputs": [],
   "source": [
    "df = df.tail(10)"
   ],
   "metadata": {
    "collapsed": false
   }
  },
  {
   "cell_type": "code",
   "execution_count": 65,
   "outputs": [
    {
     "data": {
      "text/plain": "     Unnamed: 0        time                       carrera acepta  \\\n212         224  2020-12-08                       Derecho     Si   \n213         226  2020-12-09      Ciencias de la Educación     Si   \n214         227  2020-12-09        Comercio Internacional     Si   \n215         228  2020-12-09                    Psicología     Si   \n216         229  2020-12-10                Trabajo Social     Si   \n217         230  2020-12-10  Gestión Turística y Hotelera     Si   \n218         231  2020-12-11        Ingeniería de Sistemas     No   \n219         232  2020-12-11  Gestión Turística y Hotelera     No   \n220         233  2020-12-11         Ingeniería Agronómica     Si   \n221         234  2020-12-12        Comercio Internacional     Si   \n\n                          positivo  \\\n212  Acceso desde cualquier lugar.   \n213                     Autonomía.   \n214  Acceso desde cualquier lugar.   \n215  Acceso desde cualquier lugar.   \n216              Horario flexible.   \n217              Horario flexible.   \n218  Acceso desde cualquier lugar.   \n219              Horario flexible.   \n220  Acceso desde cualquier lugar.   \n221              Horario flexible.   \n\n                                              negativo  edad    sexo   trabajo  \n212  Falta de recursos de calidad(plataformas, doce...    34  Hombre        Sí  \n213  Falta de recursos de calidad(plataformas, doce...    26  Hombre  Eventual  \n214  Falta de recursos de calidad(plataformas, doce...    20   Mujer        Sí  \n215             Contacto Personal Docente-Estudiantil.    21   Mujer        No  \n216             Contacto Personal Docente-Estudiantil.    30   Mujer        Sí  \n217                               Conexión a internet.    19   Mujer        Sí  \n218  Falta de recursos de calidad(plataformas, doce...    23   Mujer        No  \n219  Falta de recursos de calidad(plataformas, doce...    25  Hombre        Sí  \n220             Contacto Personal Docente-Estudiantil.    20   Mujer        Sí  \n221  Falta de recursos de calidad(plataformas, doce...    23  Hombre        Sí  ",
      "text/html": "<div>\n<style scoped>\n    .dataframe tbody tr th:only-of-type {\n        vertical-align: middle;\n    }\n\n    .dataframe tbody tr th {\n        vertical-align: top;\n    }\n\n    .dataframe thead th {\n        text-align: right;\n    }\n</style>\n<table border=\"1\" class=\"dataframe\">\n  <thead>\n    <tr style=\"text-align: right;\">\n      <th></th>\n      <th>Unnamed: 0</th>\n      <th>time</th>\n      <th>carrera</th>\n      <th>acepta</th>\n      <th>positivo</th>\n      <th>negativo</th>\n      <th>edad</th>\n      <th>sexo</th>\n      <th>trabajo</th>\n    </tr>\n  </thead>\n  <tbody>\n    <tr>\n      <th>212</th>\n      <td>224</td>\n      <td>2020-12-08</td>\n      <td>Derecho</td>\n      <td>Si</td>\n      <td>Acceso desde cualquier lugar.</td>\n      <td>Falta de recursos de calidad(plataformas, doce...</td>\n      <td>34</td>\n      <td>Hombre</td>\n      <td>Sí</td>\n    </tr>\n    <tr>\n      <th>213</th>\n      <td>226</td>\n      <td>2020-12-09</td>\n      <td>Ciencias de la Educación</td>\n      <td>Si</td>\n      <td>Autonomía.</td>\n      <td>Falta de recursos de calidad(plataformas, doce...</td>\n      <td>26</td>\n      <td>Hombre</td>\n      <td>Eventual</td>\n    </tr>\n    <tr>\n      <th>214</th>\n      <td>227</td>\n      <td>2020-12-09</td>\n      <td>Comercio Internacional</td>\n      <td>Si</td>\n      <td>Acceso desde cualquier lugar.</td>\n      <td>Falta de recursos de calidad(plataformas, doce...</td>\n      <td>20</td>\n      <td>Mujer</td>\n      <td>Sí</td>\n    </tr>\n    <tr>\n      <th>215</th>\n      <td>228</td>\n      <td>2020-12-09</td>\n      <td>Psicología</td>\n      <td>Si</td>\n      <td>Acceso desde cualquier lugar.</td>\n      <td>Contacto Personal Docente-Estudiantil.</td>\n      <td>21</td>\n      <td>Mujer</td>\n      <td>No</td>\n    </tr>\n    <tr>\n      <th>216</th>\n      <td>229</td>\n      <td>2020-12-10</td>\n      <td>Trabajo Social</td>\n      <td>Si</td>\n      <td>Horario flexible.</td>\n      <td>Contacto Personal Docente-Estudiantil.</td>\n      <td>30</td>\n      <td>Mujer</td>\n      <td>Sí</td>\n    </tr>\n    <tr>\n      <th>217</th>\n      <td>230</td>\n      <td>2020-12-10</td>\n      <td>Gestión Turística y Hotelera</td>\n      <td>Si</td>\n      <td>Horario flexible.</td>\n      <td>Conexión a internet.</td>\n      <td>19</td>\n      <td>Mujer</td>\n      <td>Sí</td>\n    </tr>\n    <tr>\n      <th>218</th>\n      <td>231</td>\n      <td>2020-12-11</td>\n      <td>Ingeniería de Sistemas</td>\n      <td>No</td>\n      <td>Acceso desde cualquier lugar.</td>\n      <td>Falta de recursos de calidad(plataformas, doce...</td>\n      <td>23</td>\n      <td>Mujer</td>\n      <td>No</td>\n    </tr>\n    <tr>\n      <th>219</th>\n      <td>232</td>\n      <td>2020-12-11</td>\n      <td>Gestión Turística y Hotelera</td>\n      <td>No</td>\n      <td>Horario flexible.</td>\n      <td>Falta de recursos de calidad(plataformas, doce...</td>\n      <td>25</td>\n      <td>Hombre</td>\n      <td>Sí</td>\n    </tr>\n    <tr>\n      <th>220</th>\n      <td>233</td>\n      <td>2020-12-11</td>\n      <td>Ingeniería Agronómica</td>\n      <td>Si</td>\n      <td>Acceso desde cualquier lugar.</td>\n      <td>Contacto Personal Docente-Estudiantil.</td>\n      <td>20</td>\n      <td>Mujer</td>\n      <td>Sí</td>\n    </tr>\n    <tr>\n      <th>221</th>\n      <td>234</td>\n      <td>2020-12-12</td>\n      <td>Comercio Internacional</td>\n      <td>Si</td>\n      <td>Horario flexible.</td>\n      <td>Falta de recursos de calidad(plataformas, doce...</td>\n      <td>23</td>\n      <td>Hombre</td>\n      <td>Sí</td>\n    </tr>\n  </tbody>\n</table>\n</div>"
     },
     "execution_count": 65,
     "metadata": {},
     "output_type": "execute_result"
    }
   ],
   "source": [
    "df"
   ],
   "metadata": {
    "collapsed": false
   }
  },
  {
   "cell_type": "code",
   "execution_count": 67,
   "outputs": [],
   "source": [
    "df = df.tail(3)"
   ],
   "metadata": {
    "collapsed": false
   }
  },
  {
   "cell_type": "code",
   "execution_count": 68,
   "outputs": [
    {
     "data": {
      "text/plain": "     Unnamed: 0        time                       carrera acepta  \\\n219         232  2020-12-11  Gestión Turística y Hotelera     No   \n220         233  2020-12-11         Ingeniería Agronómica     Si   \n221         234  2020-12-12        Comercio Internacional     Si   \n\n                          positivo  \\\n219              Horario flexible.   \n220  Acceso desde cualquier lugar.   \n221              Horario flexible.   \n\n                                              negativo  edad    sexo trabajo  \n219  Falta de recursos de calidad(plataformas, doce...    25  Hombre      Sí  \n220             Contacto Personal Docente-Estudiantil.    20   Mujer      Sí  \n221  Falta de recursos de calidad(plataformas, doce...    23  Hombre      Sí  ",
      "text/html": "<div>\n<style scoped>\n    .dataframe tbody tr th:only-of-type {\n        vertical-align: middle;\n    }\n\n    .dataframe tbody tr th {\n        vertical-align: top;\n    }\n\n    .dataframe thead th {\n        text-align: right;\n    }\n</style>\n<table border=\"1\" class=\"dataframe\">\n  <thead>\n    <tr style=\"text-align: right;\">\n      <th></th>\n      <th>Unnamed: 0</th>\n      <th>time</th>\n      <th>carrera</th>\n      <th>acepta</th>\n      <th>positivo</th>\n      <th>negativo</th>\n      <th>edad</th>\n      <th>sexo</th>\n      <th>trabajo</th>\n    </tr>\n  </thead>\n  <tbody>\n    <tr>\n      <th>219</th>\n      <td>232</td>\n      <td>2020-12-11</td>\n      <td>Gestión Turística y Hotelera</td>\n      <td>No</td>\n      <td>Horario flexible.</td>\n      <td>Falta de recursos de calidad(plataformas, doce...</td>\n      <td>25</td>\n      <td>Hombre</td>\n      <td>Sí</td>\n    </tr>\n    <tr>\n      <th>220</th>\n      <td>233</td>\n      <td>2020-12-11</td>\n      <td>Ingeniería Agronómica</td>\n      <td>Si</td>\n      <td>Acceso desde cualquier lugar.</td>\n      <td>Contacto Personal Docente-Estudiantil.</td>\n      <td>20</td>\n      <td>Mujer</td>\n      <td>Sí</td>\n    </tr>\n    <tr>\n      <th>221</th>\n      <td>234</td>\n      <td>2020-12-12</td>\n      <td>Comercio Internacional</td>\n      <td>Si</td>\n      <td>Horario flexible.</td>\n      <td>Falta de recursos de calidad(plataformas, doce...</td>\n      <td>23</td>\n      <td>Hombre</td>\n      <td>Sí</td>\n    </tr>\n  </tbody>\n</table>\n</div>"
     },
     "execution_count": 68,
     "metadata": {},
     "output_type": "execute_result"
    }
   ],
   "source": [
    "df"
   ],
   "metadata": {
    "collapsed": false
   }
  },
  {
   "cell_type": "code",
   "execution_count": 69,
   "outputs": [],
   "source": [
    "df = df.dtypes"
   ],
   "metadata": {
    "collapsed": false
   }
  },
  {
   "cell_type": "code",
   "execution_count": 70,
   "outputs": [
    {
     "data": {
      "text/plain": "Unnamed: 0     int64\ntime          object\ncarrera       object\nacepta        object\npositivo      object\nnegativo      object\nedad           int64\nsexo          object\ntrabajo       object\ndtype: object"
     },
     "execution_count": 70,
     "metadata": {},
     "output_type": "execute_result"
    }
   ],
   "source": [
    "df"
   ],
   "metadata": {
    "collapsed": false
   }
  },
  {
   "cell_type": "code",
   "execution_count": 26,
   "outputs": [],
   "source": [],
   "metadata": {
    "collapsed": false
   }
  },
  {
   "cell_type": "code",
   "execution_count": null,
   "outputs": [],
   "source": [],
   "metadata": {
    "collapsed": false
   }
  }
 ],
 "metadata": {
  "kernelspec": {
   "display_name": "Python 3",
   "language": "python",
   "name": "python3"
  },
  "language_info": {
   "codemirror_mode": {
    "name": "ipython",
    "version": 2
   },
   "file_extension": ".py",
   "mimetype": "text/x-python",
   "name": "python",
   "nbconvert_exporter": "python",
   "pygments_lexer": "ipython2",
   "version": "2.7.6"
  }
 },
 "nbformat": 4,
 "nbformat_minor": 0
}
