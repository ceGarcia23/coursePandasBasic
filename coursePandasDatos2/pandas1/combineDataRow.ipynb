{
 "cells": [
  {
   "cell_type": "code",
   "execution_count": 1,
   "metadata": {
    "collapsed": true
   },
   "outputs": [],
   "source": [
    "import pandas as pd"
   ]
  },
  {
   "cell_type": "code",
   "execution_count": 2,
   "outputs": [],
   "source": [
    "df1 = pd.DataFrame({\n",
    "    'NOMBRE': ['Jose','Max'],\n",
    "    'CARRERA': ['Economia', 'Arquitectura'],\n",
    "    'EDAD': [23, 26]\n",
    "}).set_index('NOMBRE')\n"
   ],
   "metadata": {
    "collapsed": false
   }
  },
  {
   "cell_type": "code",
   "execution_count": 4,
   "outputs": [
    {
     "data": {
      "text/plain": "             CARRERA  EDAD\nNOMBRE                    \nJose        Economia    23\nMax     Arquitectura    26",
      "text/html": "<div>\n<style scoped>\n    .dataframe tbody tr th:only-of-type {\n        vertical-align: middle;\n    }\n\n    .dataframe tbody tr th {\n        vertical-align: top;\n    }\n\n    .dataframe thead th {\n        text-align: right;\n    }\n</style>\n<table border=\"1\" class=\"dataframe\">\n  <thead>\n    <tr style=\"text-align: right;\">\n      <th></th>\n      <th>CARRERA</th>\n      <th>EDAD</th>\n    </tr>\n    <tr>\n      <th>NOMBRE</th>\n      <th></th>\n      <th></th>\n    </tr>\n  </thead>\n  <tbody>\n    <tr>\n      <th>Jose</th>\n      <td>Economia</td>\n      <td>23</td>\n    </tr>\n    <tr>\n      <th>Max</th>\n      <td>Arquitectura</td>\n      <td>26</td>\n    </tr>\n  </tbody>\n</table>\n</div>"
     },
     "execution_count": 4,
     "metadata": {},
     "output_type": "execute_result"
    }
   ],
   "source": [
    "df1"
   ],
   "metadata": {
    "collapsed": false
   }
  },
  {
   "cell_type": "code",
   "execution_count": 5,
   "outputs": [],
   "source": [
    "df2 = pd.DataFrame({\n",
    "    'NOMBRE': ['Aurora','Maria'],\n",
    "    'CARRERA': ['Medicina', 'Informatica'],\n",
    "    'EDAD': [22, 28]\n",
    "}).set_index('NOMBRE')"
   ],
   "metadata": {
    "collapsed": false
   }
  },
  {
   "cell_type": "code",
   "execution_count": 6,
   "outputs": [],
   "source": [
    "df = pd.concat([df1, df2])"
   ],
   "metadata": {
    "collapsed": false
   }
  },
  {
   "cell_type": "code",
   "execution_count": 7,
   "outputs": [
    {
     "data": {
      "text/plain": "             CARRERA  EDAD\nNOMBRE                    \nJose        Economia    23\nMax     Arquitectura    26\nAurora      Medicina    22\nMaria    Informatica    28",
      "text/html": "<div>\n<style scoped>\n    .dataframe tbody tr th:only-of-type {\n        vertical-align: middle;\n    }\n\n    .dataframe tbody tr th {\n        vertical-align: top;\n    }\n\n    .dataframe thead th {\n        text-align: right;\n    }\n</style>\n<table border=\"1\" class=\"dataframe\">\n  <thead>\n    <tr style=\"text-align: right;\">\n      <th></th>\n      <th>CARRERA</th>\n      <th>EDAD</th>\n    </tr>\n    <tr>\n      <th>NOMBRE</th>\n      <th></th>\n      <th></th>\n    </tr>\n  </thead>\n  <tbody>\n    <tr>\n      <th>Jose</th>\n      <td>Economia</td>\n      <td>23</td>\n    </tr>\n    <tr>\n      <th>Max</th>\n      <td>Arquitectura</td>\n      <td>26</td>\n    </tr>\n    <tr>\n      <th>Aurora</th>\n      <td>Medicina</td>\n      <td>22</td>\n    </tr>\n    <tr>\n      <th>Maria</th>\n      <td>Informatica</td>\n      <td>28</td>\n    </tr>\n  </tbody>\n</table>\n</div>"
     },
     "execution_count": 7,
     "metadata": {},
     "output_type": "execute_result"
    }
   ],
   "source": [
    "df"
   ],
   "metadata": {
    "collapsed": false
   }
  },
  {
   "cell_type": "code",
   "execution_count": null,
   "outputs": [],
   "source": [],
   "metadata": {
    "collapsed": false
   }
  }
 ],
 "metadata": {
  "kernelspec": {
   "display_name": "Python 3",
   "language": "python",
   "name": "python3"
  },
  "language_info": {
   "codemirror_mode": {
    "name": "ipython",
    "version": 2
   },
   "file_extension": ".py",
   "mimetype": "text/x-python",
   "name": "python",
   "nbconvert_exporter": "python",
   "pygments_lexer": "ipython2",
   "version": "2.7.6"
  }
 },
 "nbformat": 4,
 "nbformat_minor": 0
}
