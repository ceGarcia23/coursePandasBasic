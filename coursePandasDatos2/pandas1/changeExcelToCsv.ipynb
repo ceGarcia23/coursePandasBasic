{
 "cells": [
  {
   "cell_type": "code",
   "execution_count": 156,
   "metadata": {
    "collapsed": true
   },
   "outputs": [],
   "source": [
    "import pandas as pd"
   ]
  },
  {
   "cell_type": "code",
   "execution_count": 157,
   "outputs": [],
   "source": [
    "df = pd.read_csv(\"archive/estudiantes.csv\")"
   ],
   "metadata": {
    "collapsed": false
   }
  },
  {
   "cell_type": "code",
   "execution_count": 158,
   "outputs": [
    {
     "data": {
      "text/plain": "    NOMBRE  EDAD GENERO       CARRERA SEMESTRE\n0   Victor    28      M     Auditoria   Primer\n1   Josefa    23      F   Informatica   Primer\n2     Raul    26      M       Derecho   Quinto\n3  Mariana    27      F   Informatica  Septimo\n4  Rodrigo    22      M       Derecho  Tercero\n5  Gustavo    25      M  Arquitectura  Septimo\n6     Lucy    23      F   Informatica   Primer\n7    Sofia    24      F      Economia   Noveno",
      "text/html": "<div>\n<style scoped>\n    .dataframe tbody tr th:only-of-type {\n        vertical-align: middle;\n    }\n\n    .dataframe tbody tr th {\n        vertical-align: top;\n    }\n\n    .dataframe thead th {\n        text-align: right;\n    }\n</style>\n<table border=\"1\" class=\"dataframe\">\n  <thead>\n    <tr style=\"text-align: right;\">\n      <th></th>\n      <th>NOMBRE</th>\n      <th>EDAD</th>\n      <th>GENERO</th>\n      <th>CARRERA</th>\n      <th>SEMESTRE</th>\n    </tr>\n  </thead>\n  <tbody>\n    <tr>\n      <th>0</th>\n      <td>Victor</td>\n      <td>28</td>\n      <td>M</td>\n      <td>Auditoria</td>\n      <td>Primer</td>\n    </tr>\n    <tr>\n      <th>1</th>\n      <td>Josefa</td>\n      <td>23</td>\n      <td>F</td>\n      <td>Informatica</td>\n      <td>Primer</td>\n    </tr>\n    <tr>\n      <th>2</th>\n      <td>Raul</td>\n      <td>26</td>\n      <td>M</td>\n      <td>Derecho</td>\n      <td>Quinto</td>\n    </tr>\n    <tr>\n      <th>3</th>\n      <td>Mariana</td>\n      <td>27</td>\n      <td>F</td>\n      <td>Informatica</td>\n      <td>Septimo</td>\n    </tr>\n    <tr>\n      <th>4</th>\n      <td>Rodrigo</td>\n      <td>22</td>\n      <td>M</td>\n      <td>Derecho</td>\n      <td>Tercero</td>\n    </tr>\n    <tr>\n      <th>5</th>\n      <td>Gustavo</td>\n      <td>25</td>\n      <td>M</td>\n      <td>Arquitectura</td>\n      <td>Septimo</td>\n    </tr>\n    <tr>\n      <th>6</th>\n      <td>Lucy</td>\n      <td>23</td>\n      <td>F</td>\n      <td>Informatica</td>\n      <td>Primer</td>\n    </tr>\n    <tr>\n      <th>7</th>\n      <td>Sofia</td>\n      <td>24</td>\n      <td>F</td>\n      <td>Economia</td>\n      <td>Noveno</td>\n    </tr>\n  </tbody>\n</table>\n</div>"
     },
     "execution_count": 158,
     "metadata": {},
     "output_type": "execute_result"
    }
   ],
   "source": [
    "df"
   ],
   "metadata": {
    "collapsed": false
   }
  },
  {
   "cell_type": "code",
   "execution_count": 159,
   "outputs": [
    {
     "data": {
      "text/plain": "    NOMBRE  EDAD GENERO       CARRERA SEMESTRE\n0   Victor    28      M     Auditoria   Primer\n1   Josefa    23      F   Informatica   Primer\n2     Raul    26      M       Derecho   Quinto\n3  Mariana    27      F   Informatica  Septimo\n4  Rodrigo    22      M       Derecho  Tercero\n5  Gustavo    25      M  Arquitectura  Septimo\n6     Lucy    23      F   Informatica   Primer\n7    Sofia    24      F      Economia   Noveno",
      "text/html": "<div>\n<style scoped>\n    .dataframe tbody tr th:only-of-type {\n        vertical-align: middle;\n    }\n\n    .dataframe tbody tr th {\n        vertical-align: top;\n    }\n\n    .dataframe thead th {\n        text-align: right;\n    }\n</style>\n<table border=\"1\" class=\"dataframe\">\n  <thead>\n    <tr style=\"text-align: right;\">\n      <th></th>\n      <th>NOMBRE</th>\n      <th>EDAD</th>\n      <th>GENERO</th>\n      <th>CARRERA</th>\n      <th>SEMESTRE</th>\n    </tr>\n  </thead>\n  <tbody>\n    <tr>\n      <th>0</th>\n      <td>Victor</td>\n      <td>28</td>\n      <td>M</td>\n      <td>Auditoria</td>\n      <td>Primer</td>\n    </tr>\n    <tr>\n      <th>1</th>\n      <td>Josefa</td>\n      <td>23</td>\n      <td>F</td>\n      <td>Informatica</td>\n      <td>Primer</td>\n    </tr>\n    <tr>\n      <th>2</th>\n      <td>Raul</td>\n      <td>26</td>\n      <td>M</td>\n      <td>Derecho</td>\n      <td>Quinto</td>\n    </tr>\n    <tr>\n      <th>3</th>\n      <td>Mariana</td>\n      <td>27</td>\n      <td>F</td>\n      <td>Informatica</td>\n      <td>Septimo</td>\n    </tr>\n    <tr>\n      <th>4</th>\n      <td>Rodrigo</td>\n      <td>22</td>\n      <td>M</td>\n      <td>Derecho</td>\n      <td>Tercero</td>\n    </tr>\n    <tr>\n      <th>5</th>\n      <td>Gustavo</td>\n      <td>25</td>\n      <td>M</td>\n      <td>Arquitectura</td>\n      <td>Septimo</td>\n    </tr>\n    <tr>\n      <th>6</th>\n      <td>Lucy</td>\n      <td>23</td>\n      <td>F</td>\n      <td>Informatica</td>\n      <td>Primer</td>\n    </tr>\n    <tr>\n      <th>7</th>\n      <td>Sofia</td>\n      <td>24</td>\n      <td>F</td>\n      <td>Economia</td>\n      <td>Noveno</td>\n    </tr>\n  </tbody>\n</table>\n</div>"
     },
     "execution_count": 159,
     "metadata": {},
     "output_type": "execute_result"
    }
   ],
   "source": [
    "df"
   ],
   "metadata": {
    "collapsed": false
   }
  },
  {
   "cell_type": "code",
   "execution_count": 160,
   "outputs": [
    {
     "data": {
      "text/plain": "27"
     },
     "execution_count": 160,
     "metadata": {},
     "output_type": "execute_result"
    }
   ],
   "source": [
    "df.loc[3, \"EDAD\"]"
   ],
   "metadata": {
    "collapsed": false
   }
  },
  {
   "cell_type": "code",
   "execution_count": 161,
   "outputs": [
    {
     "data": {
      "text/plain": "'Informatica'"
     },
     "execution_count": 161,
     "metadata": {},
     "output_type": "execute_result"
    }
   ],
   "source": [
    "df.loc[3, \"CARRERA\"]"
   ],
   "metadata": {
    "collapsed": false
   }
  },
  {
   "cell_type": "code",
   "execution_count": 162,
   "outputs": [
    {
     "data": {
      "text/plain": "    NOMBRE      CARRERA\n0   Victor    Auditoria\n1   Josefa  Informatica\n2     Raul      Derecho\n3  Mariana  Informatica",
      "text/html": "<div>\n<style scoped>\n    .dataframe tbody tr th:only-of-type {\n        vertical-align: middle;\n    }\n\n    .dataframe tbody tr th {\n        vertical-align: top;\n    }\n\n    .dataframe thead th {\n        text-align: right;\n    }\n</style>\n<table border=\"1\" class=\"dataframe\">\n  <thead>\n    <tr style=\"text-align: right;\">\n      <th></th>\n      <th>NOMBRE</th>\n      <th>CARRERA</th>\n    </tr>\n  </thead>\n  <tbody>\n    <tr>\n      <th>0</th>\n      <td>Victor</td>\n      <td>Auditoria</td>\n    </tr>\n    <tr>\n      <th>1</th>\n      <td>Josefa</td>\n      <td>Informatica</td>\n    </tr>\n    <tr>\n      <th>2</th>\n      <td>Raul</td>\n      <td>Derecho</td>\n    </tr>\n    <tr>\n      <th>3</th>\n      <td>Mariana</td>\n      <td>Informatica</td>\n    </tr>\n  </tbody>\n</table>\n</div>"
     },
     "execution_count": 162,
     "metadata": {},
     "output_type": "execute_result"
    }
   ],
   "source": [
    "df.loc[:3, (\"NOMBRE\", \"CARRERA\")]"
   ],
   "metadata": {
    "collapsed": false
   }
  },
  {
   "cell_type": "code",
   "execution_count": 163,
   "outputs": [
    {
     "data": {
      "text/plain": "NOMBRE    Josefa\nEDAD          23\nGENERO         F\nName: 1, dtype: object"
     },
     "execution_count": 163,
     "metadata": {},
     "output_type": "execute_result"
    }
   ],
   "source": [
    "df.iloc[1, :3]"
   ],
   "metadata": {
    "collapsed": false
   }
  },
  {
   "cell_type": "code",
   "execution_count": 164,
   "outputs": [],
   "source": [
    "df[\"TURNO\"] = pd.Series([\"tarde\",\"noche\",\"tarde\",\"mañana\",\"tarde\",\"noche\"])"
   ],
   "metadata": {
    "collapsed": false
   }
  },
  {
   "cell_type": "code",
   "execution_count": 165,
   "outputs": [
    {
     "data": {
      "text/plain": "    NOMBRE  EDAD GENERO       CARRERA SEMESTRE   TURNO\n0   Victor    28      M     Auditoria   Primer   tarde\n1   Josefa    23      F   Informatica   Primer   noche\n2     Raul    26      M       Derecho   Quinto   tarde\n3  Mariana    27      F   Informatica  Septimo  mañana\n4  Rodrigo    22      M       Derecho  Tercero   tarde\n5  Gustavo    25      M  Arquitectura  Septimo   noche\n6     Lucy    23      F   Informatica   Primer     NaN\n7    Sofia    24      F      Economia   Noveno     NaN",
      "text/html": "<div>\n<style scoped>\n    .dataframe tbody tr th:only-of-type {\n        vertical-align: middle;\n    }\n\n    .dataframe tbody tr th {\n        vertical-align: top;\n    }\n\n    .dataframe thead th {\n        text-align: right;\n    }\n</style>\n<table border=\"1\" class=\"dataframe\">\n  <thead>\n    <tr style=\"text-align: right;\">\n      <th></th>\n      <th>NOMBRE</th>\n      <th>EDAD</th>\n      <th>GENERO</th>\n      <th>CARRERA</th>\n      <th>SEMESTRE</th>\n      <th>TURNO</th>\n    </tr>\n  </thead>\n  <tbody>\n    <tr>\n      <th>0</th>\n      <td>Victor</td>\n      <td>28</td>\n      <td>M</td>\n      <td>Auditoria</td>\n      <td>Primer</td>\n      <td>tarde</td>\n    </tr>\n    <tr>\n      <th>1</th>\n      <td>Josefa</td>\n      <td>23</td>\n      <td>F</td>\n      <td>Informatica</td>\n      <td>Primer</td>\n      <td>noche</td>\n    </tr>\n    <tr>\n      <th>2</th>\n      <td>Raul</td>\n      <td>26</td>\n      <td>M</td>\n      <td>Derecho</td>\n      <td>Quinto</td>\n      <td>tarde</td>\n    </tr>\n    <tr>\n      <th>3</th>\n      <td>Mariana</td>\n      <td>27</td>\n      <td>F</td>\n      <td>Informatica</td>\n      <td>Septimo</td>\n      <td>mañana</td>\n    </tr>\n    <tr>\n      <th>4</th>\n      <td>Rodrigo</td>\n      <td>22</td>\n      <td>M</td>\n      <td>Derecho</td>\n      <td>Tercero</td>\n      <td>tarde</td>\n    </tr>\n    <tr>\n      <th>5</th>\n      <td>Gustavo</td>\n      <td>25</td>\n      <td>M</td>\n      <td>Arquitectura</td>\n      <td>Septimo</td>\n      <td>noche</td>\n    </tr>\n    <tr>\n      <th>6</th>\n      <td>Lucy</td>\n      <td>23</td>\n      <td>F</td>\n      <td>Informatica</td>\n      <td>Primer</td>\n      <td>NaN</td>\n    </tr>\n    <tr>\n      <th>7</th>\n      <td>Sofia</td>\n      <td>24</td>\n      <td>F</td>\n      <td>Economia</td>\n      <td>Noveno</td>\n      <td>NaN</td>\n    </tr>\n  </tbody>\n</table>\n</div>"
     },
     "execution_count": 165,
     "metadata": {},
     "output_type": "execute_result"
    }
   ],
   "source": [
    "df"
   ],
   "metadata": {
    "collapsed": false
   }
  },
  {
   "cell_type": "code",
   "execution_count": 166,
   "outputs": [],
   "source": [
    "# Dele DataFrame Column"
   ],
   "metadata": {
    "collapsed": false
   }
  },
  {
   "cell_type": "code",
   "execution_count": 167,
   "outputs": [],
   "source": [
    "SEMESTRE = df.pop(\"SEMESTRE\")"
   ],
   "metadata": {
    "collapsed": false
   }
  },
  {
   "cell_type": "code",
   "execution_count": 168,
   "outputs": [
    {
     "data": {
      "text/plain": "    NOMBRE  EDAD GENERO       CARRERA   TURNO\n0   Victor    28      M     Auditoria   tarde\n1   Josefa    23      F   Informatica   noche\n2     Raul    26      M       Derecho   tarde\n3  Mariana    27      F   Informatica  mañana\n4  Rodrigo    22      M       Derecho   tarde\n5  Gustavo    25      M  Arquitectura   noche\n6     Lucy    23      F   Informatica     NaN\n7    Sofia    24      F      Economia     NaN",
      "text/html": "<div>\n<style scoped>\n    .dataframe tbody tr th:only-of-type {\n        vertical-align: middle;\n    }\n\n    .dataframe tbody tr th {\n        vertical-align: top;\n    }\n\n    .dataframe thead th {\n        text-align: right;\n    }\n</style>\n<table border=\"1\" class=\"dataframe\">\n  <thead>\n    <tr style=\"text-align: right;\">\n      <th></th>\n      <th>NOMBRE</th>\n      <th>EDAD</th>\n      <th>GENERO</th>\n      <th>CARRERA</th>\n      <th>TURNO</th>\n    </tr>\n  </thead>\n  <tbody>\n    <tr>\n      <th>0</th>\n      <td>Victor</td>\n      <td>28</td>\n      <td>M</td>\n      <td>Auditoria</td>\n      <td>tarde</td>\n    </tr>\n    <tr>\n      <th>1</th>\n      <td>Josefa</td>\n      <td>23</td>\n      <td>F</td>\n      <td>Informatica</td>\n      <td>noche</td>\n    </tr>\n    <tr>\n      <th>2</th>\n      <td>Raul</td>\n      <td>26</td>\n      <td>M</td>\n      <td>Derecho</td>\n      <td>tarde</td>\n    </tr>\n    <tr>\n      <th>3</th>\n      <td>Mariana</td>\n      <td>27</td>\n      <td>F</td>\n      <td>Informatica</td>\n      <td>mañana</td>\n    </tr>\n    <tr>\n      <th>4</th>\n      <td>Rodrigo</td>\n      <td>22</td>\n      <td>M</td>\n      <td>Derecho</td>\n      <td>tarde</td>\n    </tr>\n    <tr>\n      <th>5</th>\n      <td>Gustavo</td>\n      <td>25</td>\n      <td>M</td>\n      <td>Arquitectura</td>\n      <td>noche</td>\n    </tr>\n    <tr>\n      <th>6</th>\n      <td>Lucy</td>\n      <td>23</td>\n      <td>F</td>\n      <td>Informatica</td>\n      <td>NaN</td>\n    </tr>\n    <tr>\n      <th>7</th>\n      <td>Sofia</td>\n      <td>24</td>\n      <td>F</td>\n      <td>Economia</td>\n      <td>NaN</td>\n    </tr>\n  </tbody>\n</table>\n</div>"
     },
     "execution_count": 168,
     "metadata": {},
     "output_type": "execute_result"
    }
   ],
   "source": [
    "df"
   ],
   "metadata": {
    "collapsed": false
   }
  },
  {
   "cell_type": "code",
   "execution_count": 174,
   "outputs": [
    {
     "name": "stderr",
     "output_type": "stream",
     "text": [
      "C:\\Users\\ce\\AppData\\Local\\Temp\\ipykernel_13500\\3618059862.py:1: FutureWarning: The frame.append method is deprecated and will be removed from pandas in a future version. Use pandas.concat instead.\n",
      "  df = df.append(pd.Series([\"carlos\", 37, \"M\", \"Sociologia\", \"tarde\"],\n"
     ]
    }
   ],
   "source": [
    "df = df.append(pd.Series([\"carlos\", 37, \"M\", \"Sociologia\", \"tarde\"],\n",
    "                         index=[\"NOMBRE\", \"EDAD\", \"GENERO\", \"CARRERA\", \"TURNO\"]), ignore_index=True)"
   ],
   "metadata": {
    "collapsed": false
   }
  },
  {
   "cell_type": "code",
   "execution_count": 170,
   "outputs": [],
   "source": [
    "#df"
   ],
   "metadata": {
    "collapsed": false
   }
  },
  {
   "cell_type": "code",
   "execution_count": 171,
   "outputs": [],
   "source": [
    "new_row = pd.Series([\"Diego\", 37, \"M\", \"Sociologia\", \"tarde\"],\n",
    "                    index=[\"NOMBRE\", \"EDAD\", \"GENERO\", \"CARRERA\", \"TURNO\"])\n"
   ],
   "metadata": {
    "collapsed": false
   }
  },
  {
   "cell_type": "code",
   "execution_count": 172,
   "outputs": [],
   "source": [
    "df = pd.concat([pd.DataFrame(df), new_row.to_frame().T], ignore_index=True)"
   ],
   "metadata": {
    "collapsed": false
   }
  },
  {
   "cell_type": "code",
   "execution_count": 173,
   "outputs": [
    {
     "data": {
      "text/plain": "    NOMBRE EDAD GENERO       CARRERA   TURNO\n0   Victor   28      M     Auditoria   tarde\n1   Josefa   23      F   Informatica   noche\n2     Raul   26      M       Derecho   tarde\n3  Mariana   27      F   Informatica  mañana\n4  Rodrigo   22      M       Derecho   tarde\n5  Gustavo   25      M  Arquitectura   noche\n6     Lucy   23      F   Informatica     NaN\n7    Sofia   24      F      Economia     NaN\n8    Diego   37      M    Sociologia   tarde",
      "text/html": "<div>\n<style scoped>\n    .dataframe tbody tr th:only-of-type {\n        vertical-align: middle;\n    }\n\n    .dataframe tbody tr th {\n        vertical-align: top;\n    }\n\n    .dataframe thead th {\n        text-align: right;\n    }\n</style>\n<table border=\"1\" class=\"dataframe\">\n  <thead>\n    <tr style=\"text-align: right;\">\n      <th></th>\n      <th>NOMBRE</th>\n      <th>EDAD</th>\n      <th>GENERO</th>\n      <th>CARRERA</th>\n      <th>TURNO</th>\n    </tr>\n  </thead>\n  <tbody>\n    <tr>\n      <th>0</th>\n      <td>Victor</td>\n      <td>28</td>\n      <td>M</td>\n      <td>Auditoria</td>\n      <td>tarde</td>\n    </tr>\n    <tr>\n      <th>1</th>\n      <td>Josefa</td>\n      <td>23</td>\n      <td>F</td>\n      <td>Informatica</td>\n      <td>noche</td>\n    </tr>\n    <tr>\n      <th>2</th>\n      <td>Raul</td>\n      <td>26</td>\n      <td>M</td>\n      <td>Derecho</td>\n      <td>tarde</td>\n    </tr>\n    <tr>\n      <th>3</th>\n      <td>Mariana</td>\n      <td>27</td>\n      <td>F</td>\n      <td>Informatica</td>\n      <td>mañana</td>\n    </tr>\n    <tr>\n      <th>4</th>\n      <td>Rodrigo</td>\n      <td>22</td>\n      <td>M</td>\n      <td>Derecho</td>\n      <td>tarde</td>\n    </tr>\n    <tr>\n      <th>5</th>\n      <td>Gustavo</td>\n      <td>25</td>\n      <td>M</td>\n      <td>Arquitectura</td>\n      <td>noche</td>\n    </tr>\n    <tr>\n      <th>6</th>\n      <td>Lucy</td>\n      <td>23</td>\n      <td>F</td>\n      <td>Informatica</td>\n      <td>NaN</td>\n    </tr>\n    <tr>\n      <th>7</th>\n      <td>Sofia</td>\n      <td>24</td>\n      <td>F</td>\n      <td>Economia</td>\n      <td>NaN</td>\n    </tr>\n    <tr>\n      <th>8</th>\n      <td>Diego</td>\n      <td>37</td>\n      <td>M</td>\n      <td>Sociologia</td>\n      <td>tarde</td>\n    </tr>\n  </tbody>\n</table>\n</div>"
     },
     "execution_count": 173,
     "metadata": {},
     "output_type": "execute_result"
    }
   ],
   "source": [
    "df"
   ],
   "metadata": {
    "collapsed": false
   }
  },
  {
   "cell_type": "code",
   "execution_count": 175,
   "outputs": [
    {
     "data": {
      "text/plain": "    NOMBRE EDAD GENERO       CARRERA   TURNO\n0   Victor   28      M     Auditoria   tarde\n3  Mariana   27      F   Informatica  mañana\n4  Rodrigo   22      M       Derecho   tarde\n5  Gustavo   25      M  Arquitectura   noche\n6     Lucy   23      F   Informatica     NaN\n7    Sofia   24      F      Economia     NaN\n8    Diego   37      M    Sociologia   tarde\n9   carlos   37      M    Sociologia   tarde",
      "text/html": "<div>\n<style scoped>\n    .dataframe tbody tr th:only-of-type {\n        vertical-align: middle;\n    }\n\n    .dataframe tbody tr th {\n        vertical-align: top;\n    }\n\n    .dataframe thead th {\n        text-align: right;\n    }\n</style>\n<table border=\"1\" class=\"dataframe\">\n  <thead>\n    <tr style=\"text-align: right;\">\n      <th></th>\n      <th>NOMBRE</th>\n      <th>EDAD</th>\n      <th>GENERO</th>\n      <th>CARRERA</th>\n      <th>TURNO</th>\n    </tr>\n  </thead>\n  <tbody>\n    <tr>\n      <th>0</th>\n      <td>Victor</td>\n      <td>28</td>\n      <td>M</td>\n      <td>Auditoria</td>\n      <td>tarde</td>\n    </tr>\n    <tr>\n      <th>3</th>\n      <td>Mariana</td>\n      <td>27</td>\n      <td>F</td>\n      <td>Informatica</td>\n      <td>mañana</td>\n    </tr>\n    <tr>\n      <th>4</th>\n      <td>Rodrigo</td>\n      <td>22</td>\n      <td>M</td>\n      <td>Derecho</td>\n      <td>tarde</td>\n    </tr>\n    <tr>\n      <th>5</th>\n      <td>Gustavo</td>\n      <td>25</td>\n      <td>M</td>\n      <td>Arquitectura</td>\n      <td>noche</td>\n    </tr>\n    <tr>\n      <th>6</th>\n      <td>Lucy</td>\n      <td>23</td>\n      <td>F</td>\n      <td>Informatica</td>\n      <td>NaN</td>\n    </tr>\n    <tr>\n      <th>7</th>\n      <td>Sofia</td>\n      <td>24</td>\n      <td>F</td>\n      <td>Economia</td>\n      <td>NaN</td>\n    </tr>\n    <tr>\n      <th>8</th>\n      <td>Diego</td>\n      <td>37</td>\n      <td>M</td>\n      <td>Sociologia</td>\n      <td>tarde</td>\n    </tr>\n    <tr>\n      <th>9</th>\n      <td>carlos</td>\n      <td>37</td>\n      <td>M</td>\n      <td>Sociologia</td>\n      <td>tarde</td>\n    </tr>\n  </tbody>\n</table>\n</div>"
     },
     "execution_count": 175,
     "metadata": {},
     "output_type": "execute_result"
    }
   ],
   "source": [
    "df.drop([1,2])"
   ],
   "metadata": {
    "collapsed": false
   }
  },
  {
   "cell_type": "code",
   "execution_count": 178,
   "outputs": [
    {
     "data": {
      "text/plain": "    NOMBRE EDAD GENERO      CARRERA   TURNO\n1   Josefa   23      F  Informatica   noche\n3  Mariana   27      F  Informatica  mañana\n6     Lucy   23      F  Informatica     NaN\n7    Sofia   24      F     Economia     NaN",
      "text/html": "<div>\n<style scoped>\n    .dataframe tbody tr th:only-of-type {\n        vertical-align: middle;\n    }\n\n    .dataframe tbody tr th {\n        vertical-align: top;\n    }\n\n    .dataframe thead th {\n        text-align: right;\n    }\n</style>\n<table border=\"1\" class=\"dataframe\">\n  <thead>\n    <tr style=\"text-align: right;\">\n      <th></th>\n      <th>NOMBRE</th>\n      <th>EDAD</th>\n      <th>GENERO</th>\n      <th>CARRERA</th>\n      <th>TURNO</th>\n    </tr>\n  </thead>\n  <tbody>\n    <tr>\n      <th>1</th>\n      <td>Josefa</td>\n      <td>23</td>\n      <td>F</td>\n      <td>Informatica</td>\n      <td>noche</td>\n    </tr>\n    <tr>\n      <th>3</th>\n      <td>Mariana</td>\n      <td>27</td>\n      <td>F</td>\n      <td>Informatica</td>\n      <td>mañana</td>\n    </tr>\n    <tr>\n      <th>6</th>\n      <td>Lucy</td>\n      <td>23</td>\n      <td>F</td>\n      <td>Informatica</td>\n      <td>NaN</td>\n    </tr>\n    <tr>\n      <th>7</th>\n      <td>Sofia</td>\n      <td>24</td>\n      <td>F</td>\n      <td>Economia</td>\n      <td>NaN</td>\n    </tr>\n  </tbody>\n</table>\n</div>"
     },
     "execution_count": 178,
     "metadata": {},
     "output_type": "execute_result"
    }
   ],
   "source": [
    "df[(df[\"GENERO\"]==\"F\") & (df[\"EDAD\"]>=22)]"
   ],
   "metadata": {
    "collapsed": false
   }
  },
  {
   "cell_type": "code",
   "execution_count": 179,
   "outputs": [
    {
     "data": {
      "text/plain": "    NOMBRE EDAD GENERO       CARRERA   TURNO\n0   Victor   28      M     Auditoria   tarde\n1   Josefa   23      F   Informatica   noche\n2     Raul   26      M       Derecho   tarde\n3  Mariana   27      F   Informatica  mañana\n4  Rodrigo   22      M       Derecho   tarde\n5  Gustavo   25      M  Arquitectura   noche\n6     Lucy   23      F   Informatica     NaN\n7    Sofia   24      F      Economia     NaN\n8    Diego   37      M    Sociologia   tarde\n9   carlos   37      M    Sociologia   tarde",
      "text/html": "<div>\n<style scoped>\n    .dataframe tbody tr th:only-of-type {\n        vertical-align: middle;\n    }\n\n    .dataframe tbody tr th {\n        vertical-align: top;\n    }\n\n    .dataframe thead th {\n        text-align: right;\n    }\n</style>\n<table border=\"1\" class=\"dataframe\">\n  <thead>\n    <tr style=\"text-align: right;\">\n      <th></th>\n      <th>NOMBRE</th>\n      <th>EDAD</th>\n      <th>GENERO</th>\n      <th>CARRERA</th>\n      <th>TURNO</th>\n    </tr>\n  </thead>\n  <tbody>\n    <tr>\n      <th>0</th>\n      <td>Victor</td>\n      <td>28</td>\n      <td>M</td>\n      <td>Auditoria</td>\n      <td>tarde</td>\n    </tr>\n    <tr>\n      <th>1</th>\n      <td>Josefa</td>\n      <td>23</td>\n      <td>F</td>\n      <td>Informatica</td>\n      <td>noche</td>\n    </tr>\n    <tr>\n      <th>2</th>\n      <td>Raul</td>\n      <td>26</td>\n      <td>M</td>\n      <td>Derecho</td>\n      <td>tarde</td>\n    </tr>\n    <tr>\n      <th>3</th>\n      <td>Mariana</td>\n      <td>27</td>\n      <td>F</td>\n      <td>Informatica</td>\n      <td>mañana</td>\n    </tr>\n    <tr>\n      <th>4</th>\n      <td>Rodrigo</td>\n      <td>22</td>\n      <td>M</td>\n      <td>Derecho</td>\n      <td>tarde</td>\n    </tr>\n    <tr>\n      <th>5</th>\n      <td>Gustavo</td>\n      <td>25</td>\n      <td>M</td>\n      <td>Arquitectura</td>\n      <td>noche</td>\n    </tr>\n    <tr>\n      <th>6</th>\n      <td>Lucy</td>\n      <td>23</td>\n      <td>F</td>\n      <td>Informatica</td>\n      <td>NaN</td>\n    </tr>\n    <tr>\n      <th>7</th>\n      <td>Sofia</td>\n      <td>24</td>\n      <td>F</td>\n      <td>Economia</td>\n      <td>NaN</td>\n    </tr>\n    <tr>\n      <th>8</th>\n      <td>Diego</td>\n      <td>37</td>\n      <td>M</td>\n      <td>Sociologia</td>\n      <td>tarde</td>\n    </tr>\n    <tr>\n      <th>9</th>\n      <td>carlos</td>\n      <td>37</td>\n      <td>M</td>\n      <td>Sociologia</td>\n      <td>tarde</td>\n    </tr>\n  </tbody>\n</table>\n</div>"
     },
     "execution_count": 179,
     "metadata": {},
     "output_type": "execute_result"
    }
   ],
   "source": [
    "df"
   ],
   "metadata": {
    "collapsed": false
   }
  },
  {
   "cell_type": "code",
   "execution_count": 180,
   "outputs": [
    {
     "data": {
      "text/plain": "    NOMBRE EDAD GENERO       CARRERA   TURNO\n5  Gustavo   25      M  Arquitectura   noche\n0   Victor   28      M     Auditoria   tarde\n2     Raul   26      M       Derecho   tarde\n4  Rodrigo   22      M       Derecho   tarde\n7    Sofia   24      F      Economia     NaN\n1   Josefa   23      F   Informatica   noche\n3  Mariana   27      F   Informatica  mañana\n6     Lucy   23      F   Informatica     NaN\n8    Diego   37      M    Sociologia   tarde\n9   carlos   37      M    Sociologia   tarde",
      "text/html": "<div>\n<style scoped>\n    .dataframe tbody tr th:only-of-type {\n        vertical-align: middle;\n    }\n\n    .dataframe tbody tr th {\n        vertical-align: top;\n    }\n\n    .dataframe thead th {\n        text-align: right;\n    }\n</style>\n<table border=\"1\" class=\"dataframe\">\n  <thead>\n    <tr style=\"text-align: right;\">\n      <th></th>\n      <th>NOMBRE</th>\n      <th>EDAD</th>\n      <th>GENERO</th>\n      <th>CARRERA</th>\n      <th>TURNO</th>\n    </tr>\n  </thead>\n  <tbody>\n    <tr>\n      <th>5</th>\n      <td>Gustavo</td>\n      <td>25</td>\n      <td>M</td>\n      <td>Arquitectura</td>\n      <td>noche</td>\n    </tr>\n    <tr>\n      <th>0</th>\n      <td>Victor</td>\n      <td>28</td>\n      <td>M</td>\n      <td>Auditoria</td>\n      <td>tarde</td>\n    </tr>\n    <tr>\n      <th>2</th>\n      <td>Raul</td>\n      <td>26</td>\n      <td>M</td>\n      <td>Derecho</td>\n      <td>tarde</td>\n    </tr>\n    <tr>\n      <th>4</th>\n      <td>Rodrigo</td>\n      <td>22</td>\n      <td>M</td>\n      <td>Derecho</td>\n      <td>tarde</td>\n    </tr>\n    <tr>\n      <th>7</th>\n      <td>Sofia</td>\n      <td>24</td>\n      <td>F</td>\n      <td>Economia</td>\n      <td>NaN</td>\n    </tr>\n    <tr>\n      <th>1</th>\n      <td>Josefa</td>\n      <td>23</td>\n      <td>F</td>\n      <td>Informatica</td>\n      <td>noche</td>\n    </tr>\n    <tr>\n      <th>3</th>\n      <td>Mariana</td>\n      <td>27</td>\n      <td>F</td>\n      <td>Informatica</td>\n      <td>mañana</td>\n    </tr>\n    <tr>\n      <th>6</th>\n      <td>Lucy</td>\n      <td>23</td>\n      <td>F</td>\n      <td>Informatica</td>\n      <td>NaN</td>\n    </tr>\n    <tr>\n      <th>8</th>\n      <td>Diego</td>\n      <td>37</td>\n      <td>M</td>\n      <td>Sociologia</td>\n      <td>tarde</td>\n    </tr>\n    <tr>\n      <th>9</th>\n      <td>carlos</td>\n      <td>37</td>\n      <td>M</td>\n      <td>Sociologia</td>\n      <td>tarde</td>\n    </tr>\n  </tbody>\n</table>\n</div>"
     },
     "execution_count": 180,
     "metadata": {},
     "output_type": "execute_result"
    }
   ],
   "source": [
    "df.sort_values(\"CARRERA\")"
   ],
   "metadata": {
    "collapsed": false
   }
  },
  {
   "cell_type": "code",
   "execution_count": 181,
   "outputs": [
    {
     "data": {
      "text/plain": "    NOMBRE EDAD GENERO       CARRERA   TURNO\n4  Rodrigo   22      M       Derecho   tarde\n1   Josefa   23      F   Informatica   noche\n6     Lucy   23      F   Informatica     NaN\n7    Sofia   24      F      Economia     NaN\n5  Gustavo   25      M  Arquitectura   noche\n2     Raul   26      M       Derecho   tarde\n3  Mariana   27      F   Informatica  mañana\n0   Victor   28      M     Auditoria   tarde\n8    Diego   37      M    Sociologia   tarde\n9   carlos   37      M    Sociologia   tarde",
      "text/html": "<div>\n<style scoped>\n    .dataframe tbody tr th:only-of-type {\n        vertical-align: middle;\n    }\n\n    .dataframe tbody tr th {\n        vertical-align: top;\n    }\n\n    .dataframe thead th {\n        text-align: right;\n    }\n</style>\n<table border=\"1\" class=\"dataframe\">\n  <thead>\n    <tr style=\"text-align: right;\">\n      <th></th>\n      <th>NOMBRE</th>\n      <th>EDAD</th>\n      <th>GENERO</th>\n      <th>CARRERA</th>\n      <th>TURNO</th>\n    </tr>\n  </thead>\n  <tbody>\n    <tr>\n      <th>4</th>\n      <td>Rodrigo</td>\n      <td>22</td>\n      <td>M</td>\n      <td>Derecho</td>\n      <td>tarde</td>\n    </tr>\n    <tr>\n      <th>1</th>\n      <td>Josefa</td>\n      <td>23</td>\n      <td>F</td>\n      <td>Informatica</td>\n      <td>noche</td>\n    </tr>\n    <tr>\n      <th>6</th>\n      <td>Lucy</td>\n      <td>23</td>\n      <td>F</td>\n      <td>Informatica</td>\n      <td>NaN</td>\n    </tr>\n    <tr>\n      <th>7</th>\n      <td>Sofia</td>\n      <td>24</td>\n      <td>F</td>\n      <td>Economia</td>\n      <td>NaN</td>\n    </tr>\n    <tr>\n      <th>5</th>\n      <td>Gustavo</td>\n      <td>25</td>\n      <td>M</td>\n      <td>Arquitectura</td>\n      <td>noche</td>\n    </tr>\n    <tr>\n      <th>2</th>\n      <td>Raul</td>\n      <td>26</td>\n      <td>M</td>\n      <td>Derecho</td>\n      <td>tarde</td>\n    </tr>\n    <tr>\n      <th>3</th>\n      <td>Mariana</td>\n      <td>27</td>\n      <td>F</td>\n      <td>Informatica</td>\n      <td>mañana</td>\n    </tr>\n    <tr>\n      <th>0</th>\n      <td>Victor</td>\n      <td>28</td>\n      <td>M</td>\n      <td>Auditoria</td>\n      <td>tarde</td>\n    </tr>\n    <tr>\n      <th>8</th>\n      <td>Diego</td>\n      <td>37</td>\n      <td>M</td>\n      <td>Sociologia</td>\n      <td>tarde</td>\n    </tr>\n    <tr>\n      <th>9</th>\n      <td>carlos</td>\n      <td>37</td>\n      <td>M</td>\n      <td>Sociologia</td>\n      <td>tarde</td>\n    </tr>\n  </tbody>\n</table>\n</div>"
     },
     "execution_count": 181,
     "metadata": {},
     "output_type": "execute_result"
    }
   ],
   "source": [
    "df.sort_values(\"EDAD\")"
   ],
   "metadata": {
    "collapsed": false
   }
  },
  {
   "cell_type": "code",
   "execution_count": 182,
   "outputs": [
    {
     "data": {
      "text/plain": "    NOMBRE EDAD GENERO       CARRERA   TURNO\n0   Victor   28      M     Auditoria   tarde\n1   Josefa   23      F   Informatica   noche\n2     Raul   26      M       Derecho   tarde\n3  Mariana   27      F   Informatica  mañana\n4  Rodrigo   22      M       Derecho   tarde\n5  Gustavo   25      M  Arquitectura   noche\n8    Diego   37      M    Sociologia   tarde\n9   carlos   37      M    Sociologia   tarde",
      "text/html": "<div>\n<style scoped>\n    .dataframe tbody tr th:only-of-type {\n        vertical-align: middle;\n    }\n\n    .dataframe tbody tr th {\n        vertical-align: top;\n    }\n\n    .dataframe thead th {\n        text-align: right;\n    }\n</style>\n<table border=\"1\" class=\"dataframe\">\n  <thead>\n    <tr style=\"text-align: right;\">\n      <th></th>\n      <th>NOMBRE</th>\n      <th>EDAD</th>\n      <th>GENERO</th>\n      <th>CARRERA</th>\n      <th>TURNO</th>\n    </tr>\n  </thead>\n  <tbody>\n    <tr>\n      <th>0</th>\n      <td>Victor</td>\n      <td>28</td>\n      <td>M</td>\n      <td>Auditoria</td>\n      <td>tarde</td>\n    </tr>\n    <tr>\n      <th>1</th>\n      <td>Josefa</td>\n      <td>23</td>\n      <td>F</td>\n      <td>Informatica</td>\n      <td>noche</td>\n    </tr>\n    <tr>\n      <th>2</th>\n      <td>Raul</td>\n      <td>26</td>\n      <td>M</td>\n      <td>Derecho</td>\n      <td>tarde</td>\n    </tr>\n    <tr>\n      <th>3</th>\n      <td>Mariana</td>\n      <td>27</td>\n      <td>F</td>\n      <td>Informatica</td>\n      <td>mañana</td>\n    </tr>\n    <tr>\n      <th>4</th>\n      <td>Rodrigo</td>\n      <td>22</td>\n      <td>M</td>\n      <td>Derecho</td>\n      <td>tarde</td>\n    </tr>\n    <tr>\n      <th>5</th>\n      <td>Gustavo</td>\n      <td>25</td>\n      <td>M</td>\n      <td>Arquitectura</td>\n      <td>noche</td>\n    </tr>\n    <tr>\n      <th>8</th>\n      <td>Diego</td>\n      <td>37</td>\n      <td>M</td>\n      <td>Sociologia</td>\n      <td>tarde</td>\n    </tr>\n    <tr>\n      <th>9</th>\n      <td>carlos</td>\n      <td>37</td>\n      <td>M</td>\n      <td>Sociologia</td>\n      <td>tarde</td>\n    </tr>\n  </tbody>\n</table>\n</div>"
     },
     "execution_count": 182,
     "metadata": {},
     "output_type": "execute_result"
    }
   ],
   "source": [
    "df.dropna()"
   ],
   "metadata": {
    "collapsed": false
   }
  },
  {
   "cell_type": "code",
   "execution_count": null,
   "outputs": [],
   "source": [],
   "metadata": {
    "collapsed": false
   }
  }
 ],
 "metadata": {
  "kernelspec": {
   "display_name": "Python 3",
   "language": "python",
   "name": "python3"
  },
  "language_info": {
   "codemirror_mode": {
    "name": "ipython",
    "version": 2
   },
   "file_extension": ".py",
   "mimetype": "text/x-python",
   "name": "python",
   "nbconvert_exporter": "python",
   "pygments_lexer": "ipython2",
   "version": "2.7.6"
  }
 },
 "nbformat": 4,
 "nbformat_minor": 0
}
