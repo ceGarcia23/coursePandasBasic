{
 "cells": [
  {
   "cell_type": "code",
   "execution_count": 1,
   "metadata": {
    "collapsed": true
   },
   "outputs": [],
   "source": [
    "import pandas as pd"
   ]
  },
  {
   "cell_type": "code",
   "execution_count": 3,
   "outputs": [],
   "source": [
    "Series = pd.Series({\"Mathe\":8, \"Economic\":6, \"Programming\":10, \"Chemistry\":5})"
   ],
   "metadata": {
    "collapsed": false
   }
  },
  {
   "cell_type": "code",
   "execution_count": 6,
   "outputs": [
    {
     "name": "stdout",
     "output_type": "stream",
     "text": [
      "Mathe           8\n",
      "Programming    10\n",
      "dtype: int64\n"
     ]
    }
   ],
   "source": [
    "print(Series[Series > 6])"
   ],
   "metadata": {
    "collapsed": false
   }
  },
  {
   "cell_type": "code",
   "execution_count": 8,
   "outputs": [
    {
     "name": "stdout",
     "output_type": "stream",
     "text": [
      "Chemistry       5\n",
      "Economic        6\n",
      "Mathe           8\n",
      "Programming    10\n",
      "dtype: int64\n"
     ]
    }
   ],
   "source": [
    "print(Series.sort_values())"
   ],
   "metadata": {
    "collapsed": false
   }
  },
  {
   "cell_type": "code",
   "execution_count": 9,
   "outputs": [
    {
     "name": "stdout",
     "output_type": "stream",
     "text": [
      "<bound method Series.sort_index of Mathe           8\n",
      "Economic        6\n",
      "Programming    10\n",
      "dtype: int64>\n"
     ]
    }
   ],
   "source": [
    "print(Series.sort_index)"
   ],
   "metadata": {
    "collapsed": false
   }
  },
  {
   "cell_type": "code",
   "execution_count": 10,
   "outputs": [
    {
     "name": "stdout",
     "output_type": "stream",
     "text": [
      "Chemistry       5\n",
      "Economic        6\n",
      "Mathe           8\n",
      "Programming    10\n",
      "dtype: int64\n"
     ]
    }
   ],
   "source": [
    "print(Series.sort_index(ascending=True))"
   ],
   "metadata": {
    "collapsed": false
   }
  },
  {
   "cell_type": "code",
   "execution_count": 11,
   "outputs": [
    {
     "name": "stdout",
     "output_type": "stream",
     "text": [
      "Programming    10\n",
      "Mathe           8\n",
      "Economic        6\n",
      "Chemistry       5\n",
      "dtype: int64\n"
     ]
    }
   ],
   "source": [
    "print(Series.sort_index(ascending=False))"
   ],
   "metadata": {
    "collapsed": false
   }
  },
  {
   "cell_type": "code",
   "execution_count": null,
   "outputs": [],
   "source": [],
   "metadata": {
    "collapsed": false
   }
  }
 ],
 "metadata": {
  "kernelspec": {
   "display_name": "Python 3",
   "language": "python",
   "name": "python3"
  },
  "language_info": {
   "codemirror_mode": {
    "name": "ipython",
    "version": 2
   },
   "file_extension": ".py",
   "mimetype": "text/x-python",
   "name": "python",
   "nbconvert_exporter": "python",
   "pygments_lexer": "ipython2",
   "version": "2.7.6"
  }
 },
 "nbformat": 4,
 "nbformat_minor": 0
}
